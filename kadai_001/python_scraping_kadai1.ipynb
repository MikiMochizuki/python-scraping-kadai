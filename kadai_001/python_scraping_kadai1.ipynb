{
  "nbformat": 4,
  "nbformat_minor": 0,
  "metadata": {
    "colab": {
      "provenance": []
    },
    "kernelspec": {
      "name": "python3",
      "display_name": "Python 3"
    },
    "language_info": {
      "name": "python"
    }
  },
  "cells": [
    {
      "cell_type": "code",
      "source": [
        "import requests\n",
        "from bs4 import BeautifulSoup\n",
        "# タイトルを取得する対象のURL\n",
        "url = 'https://news.yahoo.co.jp/articles/34469105a62019620359d822eeb85031321eba30'\n",
        "\n",
        "# GETリクエストを送信し、HTMLを取得する\n",
        "response = requests.get(url)\n",
        "\n",
        "# HTMLを解析する\n",
        "soup = BeautifulSoup(response.text, 'html.parser')\n",
        "\n",
        "# タイトルの要素を取得する\n",
        "# CSSセレクタを使用して、タイトルを取得する\n",
        "honbun_element = soup.select_one('#uamods > div')\n",
        "\n",
        "# タイトルのテキストを取得する\n",
        "honbun_text = honbun_element.text\n",
        "\n",
        "# タイトルを表示する\n",
        "print(honbun_text)\n"
      ],
      "metadata": {
        "colab": {
          "base_uri": "https://localhost:8080/"
        },
        "id": "ZsWYAH2rvYPe",
        "outputId": "da070ebd-61df-459f-9367-d90155aabe07"
      },
      "execution_count": 20,
      "outputs": [
        {
          "output_type": "stream",
          "name": "stdout",
          "text": [
            "　騒動後初の実戦に挑んだ宮田笙子　「国民スポーツ大会・体操」（７日、ＳＡＧＡサンライズパークＳＡＧＡアリーナ）\n",
            "\n",
            "　７月に未成年飲酒・喫煙騒動でパリ五輪代表を辞退した宮田笙子（１９）＝順大＝が、騒動後初の実戦に挑んだ。\n",
            "\n",
            "【写真】涙の宮田　こみ上げる感情抑えきれない\n",
            "\n",
            "　福井県代表として登場し、チームを優勝に導くと、仲間と抱き合って喜んだ。宮田は最初の跳馬に臨む前には緊張からか涙ぐむ様子も。それでも１３・３００をマークすると、緊張した様子を見せながらもチームを引っ張った。床の演技を終えると涙があふれ、優勝決定後も感情を抑えきれなかった。\n",
            "\n",
            "　宮田は未成年ながら６月末から７月にかけて飲酒と喫煙を行ったことで、日本オリンピック委員会が定める「国際総合競技大会派遣規程」と日本体操協会の「日本代表選手・役員の行動規範」に違反。五輪開幕直前の７月に代表を辞退した。今大会が騒動後初の実戦で、５月のＮＨＫ杯以来４カ月ぶりの大会だった。\n",
            "\n",
            "　大会後は「この度は私がとった行動で多くの皆様にご迷惑をかけてしまい深く反省しております。申し訳ありませんでした。この件に真摯に向き合い、今後の競技生活を全うして参りたいと思います」と、謝罪し、深々と頭を下げた。「今回の試合はケガもあって不安はあったんですけど、これまでずっと応援してくださった特に福井県の方々を思って、一緒に戦ってくれるチームのみんなのことを思うと、最後までやりきることが使命と思っていた。最後までやりきれてよかった」と試合を振り返り「本当にこの素晴らしい体育館で演技させてもらえて本当に感謝しています。色んな方に声を掛けていただいて今後に前向きな気持ちになれました」と、語った。\n"
          ]
        }
      ]
    },
    {
      "cell_type": "markdown",
      "source": [],
      "metadata": {
        "id": "IdmKNpYEvsvE"
      }
    }
  ]
}